{
  "nbformat": 4,
  "nbformat_minor": 0,
  "metadata": {
    "colab": {
      "provenance": []
    },
    "kernelspec": {
      "name": "python3",
      "display_name": "Python 3"
    },
    "language_info": {
      "name": "python"
    }
  },
  "cells": [
    {
      "cell_type": "code",
      "execution_count": null,
      "metadata": {
        "colab": {
          "base_uri": "https://localhost:8080/"
        },
        "id": "D8qVLK8AFO-8",
        "outputId": "89b66ebb-b627-46e2-f4e6-6a7d054013d1"
      },
      "outputs": [
        {
          "output_type": "stream",
          "name": "stdout",
          "text": [
            "[[0 0]\n",
            " [0 0]]\n"
          ]
        }
      ],
      "source": [
        "# Question 1\n",
        "# 1st question\n",
        "import numpy as np\n",
        "arr= np.random.randint(0,1,(2,2))\n",
        "print(arr)"
      ]
    },
    {
      "cell_type": "code",
      "source": [
        "# 2nd question\n",
        "import numpy as np\n",
        "import random\n",
        "arr= np.random.randint(1,2,(4,2))\n",
        "print(arr)"
      ],
      "metadata": {
        "colab": {
          "base_uri": "https://localhost:8080/"
        },
        "id": "pdvEpdXVFrp7",
        "outputId": "d328efb8-6404-4ec2-e337-1cae8f9a7a29"
      },
      "execution_count": null,
      "outputs": [
        {
          "output_type": "stream",
          "name": "stdout",
          "text": [
            "[[1 1]\n",
            " [1 1]\n",
            " [1 1]\n",
            " [1 1]]\n"
          ]
        }
      ]
    },
    {
      "cell_type": "code",
      "source": [
        "# 3rd 4th and 5th question\n",
        "import numpy as np\n",
        "filled_array = np.full((3, 3),fill_value= 7)\n",
        "print(filled_array)\n",
        "ones_like = np.ones_like(filled_array)\n",
        "print(ones_like)"
      ],
      "metadata": {
        "colab": {
          "base_uri": "https://localhost:8080/"
        },
        "id": "3GPwTm-fFv-5",
        "outputId": "584e4616-6563-4b23-e7d7-1e2e0e95e676"
      },
      "execution_count": null,
      "outputs": [
        {
          "output_type": "stream",
          "name": "stdout",
          "text": [
            "[[7 7 7]\n",
            " [7 7 7]\n",
            " [7 7 7]]\n",
            "[[1 1 1]\n",
            " [1 1 1]\n",
            " [1 1 1]]\n"
          ]
        }
      ]
    },
    {
      "cell_type": "code",
      "source": [
        "# 6th question\n",
        "import numpy as np\n",
        "new_list = [1,2,3,4]\n",
        "new_array = np.array(new_list)\n",
        "print(new_array)"
      ],
      "metadata": {
        "colab": {
          "base_uri": "https://localhost:8080/"
        },
        "id": "Jb1zDUMwF1kG",
        "outputId": "e18977ad-99dc-4263-9586-340bf76fbf32"
      },
      "execution_count": null,
      "outputs": [
        {
          "output_type": "stream",
          "name": "stdout",
          "text": [
            "[1 2 3 4]\n"
          ]
        }
      ]
    },
    {
      "cell_type": "code",
      "source": [
        "# Part 2\n",
        "# Quetion 1\n",
        "import numpy as np\n",
        "array_10_to_49 = np.arange(10, 50)\n",
        "print(array_10_to_49)"
      ],
      "metadata": {
        "colab": {
          "base_uri": "https://localhost:8080/"
        },
        "id": "5Kcn9KJSGIp6",
        "outputId": "f29949db-4643-4051-c5a2-8f3324fd5272"
      },
      "execution_count": null,
      "outputs": [
        {
          "output_type": "stream",
          "name": "stdout",
          "text": [
            "[10 11 12 13 14 15 16 17 18 19 20 21 22 23 24 25 26 27 28 29 30 31 32 33\n",
            " 34 35 36 37 38 39 40 41 42 43 44 45 46 47 48 49]\n"
          ]
        }
      ]
    },
    {
      "cell_type": "code",
      "source": [
        "# Part 2\n",
        "# Ques 2\n",
        "import numpy as np\n",
        "array_0_8= np.reshape((np.arange(0,9)),(3,3))\n",
        "print(array_0_8)"
      ],
      "metadata": {
        "colab": {
          "base_uri": "https://localhost:8080/"
        },
        "id": "7kxIMDJMGMst",
        "outputId": "e95dc7b1-b6cc-4a72-a2f3-b4cb3809a30f"
      },
      "execution_count": null,
      "outputs": [
        {
          "output_type": "stream",
          "name": "stdout",
          "text": [
            "[[0 1 2]\n",
            " [3 4 5]\n",
            " [6 7 8]]\n"
          ]
        }
      ]
    },
    {
      "cell_type": "code",
      "source": [
        "# Part 2\n",
        "# Ques 3\n",
        "import numpy as np\n",
        "id_matrix = np.eye(3)\n",
        "print(id_matrix)"
      ],
      "metadata": {
        "colab": {
          "base_uri": "https://localhost:8080/"
        },
        "id": "9e4Y_6kpGPzA",
        "outputId": "60726590-acd9-4381-8f23-524d82402fc1"
      },
      "execution_count": null,
      "outputs": [
        {
          "output_type": "stream",
          "name": "stdout",
          "text": [
            "[[1. 0. 0.]\n",
            " [0. 1. 0.]\n",
            " [0. 0. 1.]]\n"
          ]
        }
      ]
    },
    {
      "cell_type": "code",
      "source": [
        "# Part 2\n",
        "# Ques 4\n",
        "import numpy as np\n",
        "random_array = np.random.rand(30)\n",
        "mean_arr = random_array.mean()\n",
        "print(mean_arr)"
      ],
      "metadata": {
        "colab": {
          "base_uri": "https://localhost:8080/"
        },
        "id": "QFinfhj1GSD5",
        "outputId": "74a4cca3-f45a-4da7-a154-3d5e6dc4a1a5"
      },
      "execution_count": null,
      "outputs": [
        {
          "output_type": "stream",
          "name": "stdout",
          "text": [
            "0.4975296476439867\n"
          ]
        }
      ]
    },
    {
      "cell_type": "code",
      "source": [
        "# Part 2\n",
        "# Ques 5\n",
        "import numpy as np\n",
        "array = np.random.randint(1,100,size=(10,10))\n",
        "min_val = array.min()\n",
        "max_val = array.max()\n",
        "print(\"The random elements array is: \",array)\n",
        "print(\"The min value of the matrix is:\",min_val)\n",
        "print(\"The max value of the matrix is:\",max_val)"
      ],
      "metadata": {
        "colab": {
          "base_uri": "https://localhost:8080/"
        },
        "id": "hvOX4Z4WGUmN",
        "outputId": "e50187ac-e841-4901-ef08-7b316d7ccde3"
      },
      "execution_count": null,
      "outputs": [
        {
          "output_type": "stream",
          "name": "stdout",
          "text": [
            "The random elements array is:  [[71 14 40 80 23 42 13 19 60 38]\n",
            " [71 30 76 89 43 17 80 26 88 54]\n",
            " [67 65  4 52 84 68  3 85 78 68]\n",
            " [20  4 80  4  3 81 86 80 41 20]\n",
            " [71 11 93 93 70 64 12 65  2 36]\n",
            " [94 74 16 99 75  2 67 85 95 27]\n",
            " [65 79 97 65 50 99 23 44 15 18]\n",
            " [69  4 45  9 88 19  7 76 24  8]\n",
            " [41 32  3 33 36 19 46 88 20 20]\n",
            " [ 9 78 39 73 88  3 95 86 74 91]]\n",
            "The min value of the matrix is: 2\n",
            "The max value of the matrix is: 99\n"
          ]
        }
      ]
    },
    {
      "cell_type": "code",
      "source": [
        "# Part 2\n",
        "# Ques 6\n",
        "import numpy as np\n",
        "array = np.zeros((10,10))\n",
        "print(array)\n",
        "array[0][4]= 1\n",
        "print(array)"
      ],
      "metadata": {
        "colab": {
          "base_uri": "https://localhost:8080/"
        },
        "id": "-pQLRYdLGXHC",
        "outputId": "541ab626-f54a-474a-ca1e-5e3d50d77713"
      },
      "execution_count": null,
      "outputs": [
        {
          "output_type": "stream",
          "name": "stdout",
          "text": [
            "[[0. 0. 0. 0. 0. 0. 0. 0. 0. 0.]\n",
            " [0. 0. 0. 0. 0. 0. 0. 0. 0. 0.]\n",
            " [0. 0. 0. 0. 0. 0. 0. 0. 0. 0.]\n",
            " [0. 0. 0. 0. 0. 0. 0. 0. 0. 0.]\n",
            " [0. 0. 0. 0. 0. 0. 0. 0. 0. 0.]\n",
            " [0. 0. 0. 0. 0. 0. 0. 0. 0. 0.]\n",
            " [0. 0. 0. 0. 0. 0. 0. 0. 0. 0.]\n",
            " [0. 0. 0. 0. 0. 0. 0. 0. 0. 0.]\n",
            " [0. 0. 0. 0. 0. 0. 0. 0. 0. 0.]\n",
            " [0. 0. 0. 0. 0. 0. 0. 0. 0. 0.]]\n",
            "[[0. 0. 0. 0. 1. 0. 0. 0. 0. 0.]\n",
            " [0. 0. 0. 0. 0. 0. 0. 0. 0. 0.]\n",
            " [0. 0. 0. 0. 0. 0. 0. 0. 0. 0.]\n",
            " [0. 0. 0. 0. 0. 0. 0. 0. 0. 0.]\n",
            " [0. 0. 0. 0. 0. 0. 0. 0. 0. 0.]\n",
            " [0. 0. 0. 0. 0. 0. 0. 0. 0. 0.]\n",
            " [0. 0. 0. 0. 0. 0. 0. 0. 0. 0.]\n",
            " [0. 0. 0. 0. 0. 0. 0. 0. 0. 0.]\n",
            " [0. 0. 0. 0. 0. 0. 0. 0. 0. 0.]\n",
            " [0. 0. 0. 0. 0. 0. 0. 0. 0. 0.]]\n"
          ]
        }
      ]
    },
    {
      "cell_type": "code",
      "source": [
        "# Part 2\n",
        "# Ques 7\n",
        "import numpy as np\n",
        "array = [1,2,0,0,4,0]\n",
        "array.reverse()\n",
        "# array.sort()\n",
        "print(array)\n"
      ],
      "metadata": {
        "colab": {
          "base_uri": "https://localhost:8080/"
        },
        "id": "llbzgEujGZI2",
        "outputId": "ac67351d-f8b3-48a2-c6f3-7ba6eb8165de"
      },
      "execution_count": null,
      "outputs": [
        {
          "output_type": "stream",
          "name": "stdout",
          "text": [
            "[0, 4, 0, 0, 2, 1]\n"
          ]
        }
      ]
    },
    {
      "cell_type": "code",
      "source": [
        "# Part 2\n",
        "# Ques 8\n",
        "import numpy as np\n",
        "array = np.array([[1,2,3],[4,5,6],[7,8,9]])\n",
        "array[0,:]=1\n",
        "array[-1,:] =1\n",
        "array[:,0]=1\n",
        "array[:,-1]=1\n",
        "print(array)\n"
      ],
      "metadata": {
        "colab": {
          "base_uri": "https://localhost:8080/"
        },
        "id": "CZg6YRvsGa6y",
        "outputId": "c076b92d-c795-4697-cc73-cfca06246e39"
      },
      "execution_count": null,
      "outputs": [
        {
          "output_type": "stream",
          "name": "stdout",
          "text": [
            "[[1 1 1]\n",
            " [1 5 1]\n",
            " [1 1 1]]\n"
          ]
        }
      ]
    },
    {
      "cell_type": "code",
      "source": [
        "# Part 2\n",
        "# Ques 9\n",
        "import numpy as np\n",
        "check = np.random.randint(0,1,(8,8))\n",
        "check[1::2, ::2] = 1\n",
        "check[::2, 1::2] = 1\n",
        "print(check)"
      ],
      "metadata": {
        "colab": {
          "base_uri": "https://localhost:8080/"
        },
        "id": "gJDb7uQVGa_F",
        "outputId": "18afa671-e75a-41ab-d97e-595d9667ca0c"
      },
      "execution_count": null,
      "outputs": [
        {
          "output_type": "stream",
          "name": "stdout",
          "text": [
            "[[0 1 0 1 0 1 0 1]\n",
            " [1 0 1 0 1 0 1 0]\n",
            " [0 1 0 1 0 1 0 1]\n",
            " [1 0 1 0 1 0 1 0]\n",
            " [0 1 0 1 0 1 0 1]\n",
            " [1 0 1 0 1 0 1 0]\n",
            " [0 1 0 1 0 1 0 1]\n",
            " [1 0 1 0 1 0 1 0]]\n"
          ]
        }
      ]
    },
    {
      "cell_type": "code",
      "source": [
        "# Part 3\n",
        "# Ques 1\n",
        "import numpy as np\n",
        "x = np.array([[1,2],\n",
        "              [3,5]])\n",
        "y = np.array([[5,6]\n",
        "            , [7,8]])\n",
        "result1 = x+y\n",
        "result2 = np.add(x,y)\n",
        "print(result1)\n",
        "print(result2)\n",
        "\n",
        "v = np.array([9,10])\n",
        "w = np.array([11,12])\n",
        "result1 = np.add(v,w)\n",
        "print(result1)"
      ],
      "metadata": {
        "colab": {
          "base_uri": "https://localhost:8080/"
        },
        "id": "P5M3nAw6GqQ0",
        "outputId": "f1c6b995-d5cc-4527-ae43-b8d7e0ae396d"
      },
      "execution_count": null,
      "outputs": [
        {
          "output_type": "stream",
          "name": "stdout",
          "text": [
            "[[ 6  8]\n",
            " [10 13]]\n",
            "[[ 6  8]\n",
            " [10 13]]\n",
            "[20 22]\n"
          ]
        }
      ]
    },
    {
      "cell_type": "code",
      "source": [
        "# Part 3\n",
        "# Ques 2\n",
        "import numpy as np\n",
        "x = np.array([[1,2],\n",
        "              [3,5]])\n",
        "y = np.array([[5,6]\n",
        "            , [7,8]])\n",
        "result = np.subtract(x,y)\n",
        "print(result)\n",
        "\n",
        "v = np.array([9,10])\n",
        "w = np.array([11,12])\n",
        "result = np.subtract(v,w)\n",
        "print(result)"
      ],
      "metadata": {
        "colab": {
          "base_uri": "https://localhost:8080/"
        },
        "id": "nQSM6o47Gsqm",
        "outputId": "43abed1d-f69f-488f-bc7d-6dff85e08b93"
      },
      "execution_count": null,
      "outputs": [
        {
          "output_type": "stream",
          "name": "stdout",
          "text": [
            "[[-4 -4]\n",
            " [-4 -3]]\n",
            "[-2 -2]\n"
          ]
        }
      ]
    },
    {
      "cell_type": "code",
      "source": [
        "# Part 3\n",
        "# Ques 3\n",
        "import numpy as np\n",
        "v = np.array([9,10])\n",
        "w = np.array([11,12])\n",
        "x = np.array([[1,2],\n",
        "              [3,5]])\n",
        "y = np.array([[5,6]\n",
        "            , [7,8]])\n",
        "\n",
        "res1 = v*2\n",
        "res2= w*3\n",
        "res3 = x*4\n",
        "res4=y*5\n",
        "\n",
        "print(res1)\n",
        "print(res2)\n",
        "print(res3)\n",
        "print(res4)"
      ],
      "metadata": {
        "colab": {
          "base_uri": "https://localhost:8080/"
        },
        "id": "-5Zjfc7rGw9o",
        "outputId": "44f34d76-0598-482a-fd84-2f9d391c22aa"
      },
      "execution_count": null,
      "outputs": [
        {
          "output_type": "stream",
          "name": "stdout",
          "text": [
            "[18 20]\n",
            "[33 36]\n",
            "[[ 4  8]\n",
            " [12 20]]\n",
            "[[25 30]\n",
            " [35 40]]\n"
          ]
        }
      ]
    },
    {
      "cell_type": "code",
      "source": [
        "# Part 3\n",
        "# Ques 4\n",
        "import numpy as np\n",
        "v = np.array([9,10])\n",
        "w = np.array([11,12])\n",
        "x = np.array([[1,2],\n",
        "              [3,5]])\n",
        "y = np.array([[5,6]\n",
        "            , [7,8]])\n",
        "\n",
        "square1 = np.square(v)\n",
        "square2 = np.square(w)\n",
        "square3 = np.square(x)\n",
        "square4 = np.square(y)\n",
        "print(square1,\"\\n\", square2,\"\\n\", square3,\"\\n\", square4)"
      ],
      "metadata": {
        "colab": {
          "base_uri": "https://localhost:8080/"
        },
        "id": "OcaY4_sIGzl6",
        "outputId": "9bd1c856-64e1-4b3d-c8ae-440ca666e3ac"
      },
      "execution_count": null,
      "outputs": [
        {
          "output_type": "stream",
          "name": "stdout",
          "text": [
            "[ 81 100] \n",
            " [121 144] \n",
            " [[ 1  4]\n",
            " [ 9 25]] \n",
            " [[25 36]\n",
            " [49 64]]\n"
          ]
        }
      ]
    },
    {
      "cell_type": "code",
      "source": [
        "# Part 3\n",
        "# Ques 5\n",
        "import numpy as np\n",
        "v = np.array([9,10])\n",
        "w = np.array([11,12])\n",
        "x = np.array([[1,2],\n",
        "              [3,5]])\n",
        "y = np.array([[5,6]\n",
        "            , [7,8]])\n",
        "\n",
        "result1 = np.dot(v,w)\n",
        "result2 = np.dot(x,v)\n",
        "result3 =np.dot(x,y)\n",
        "\n",
        "print(result1)\n",
        "print(result2)\n",
        "print(result3)"
      ],
      "metadata": {
        "colab": {
          "base_uri": "https://localhost:8080/"
        },
        "id": "nrH37CQHG2QZ",
        "outputId": "a7d1cdb3-a0e4-42eb-b4e8-e90abc96dc4a"
      },
      "execution_count": null,
      "outputs": [
        {
          "output_type": "stream",
          "name": "stdout",
          "text": [
            "219\n",
            "[29 77]\n",
            "[[19 22]\n",
            " [50 58]]\n"
          ]
        }
      ]
    },
    {
      "cell_type": "code",
      "source": [
        "# Part 3\n",
        "# Ques 6\n",
        "import numpy as np\n",
        "v = np.array([9,10])\n",
        "w = np.array([11,12])\n",
        "x = np.array([[1,2],\n",
        "              [3,5]])\n",
        "y = np.array([[5,6]\n",
        "            , [7,8]])\n",
        "result1 = np.concatenate((v,w))\n",
        "result2 = np.concatenate((x,y),axis = 1)\n",
        "print(result1)\n",
        "print(result2)\n",
        "result3 = np.concatenate((x,v))\n",
        "print(result3)\n",
        "# dimensional error"
      ],
      "metadata": {
        "colab": {
          "base_uri": "https://localhost:8080/",
          "height": 280
        },
        "id": "HhBxgm4tG49u",
        "outputId": "34e51f01-2f35-44a9-85b7-7d9b7bccd87b"
      },
      "execution_count": null,
      "outputs": [
        {
          "output_type": "stream",
          "name": "stdout",
          "text": [
            "[ 9 10 11 12]\n",
            "[[1 2 5 6]\n",
            " [3 5 7 8]]\n"
          ]
        },
        {
          "output_type": "error",
          "ename": "ValueError",
          "evalue": "all the input arrays must have same number of dimensions, but the array at index 0 has 2 dimension(s) and the array at index 1 has 1 dimension(s)",
          "traceback": [
            "\u001b[0;31m---------------------------------------------------------------------------\u001b[0m",
            "\u001b[0;31mValueError\u001b[0m                                Traceback (most recent call last)",
            "\u001b[0;32m<ipython-input-19-36d3e7135bb0>\u001b[0m in \u001b[0;36m<cell line: 14>\u001b[0;34m()\u001b[0m\n\u001b[1;32m     12\u001b[0m \u001b[0mprint\u001b[0m\u001b[0;34m(\u001b[0m\u001b[0mresult1\u001b[0m\u001b[0;34m)\u001b[0m\u001b[0;34m\u001b[0m\u001b[0;34m\u001b[0m\u001b[0m\n\u001b[1;32m     13\u001b[0m \u001b[0mprint\u001b[0m\u001b[0;34m(\u001b[0m\u001b[0mresult2\u001b[0m\u001b[0;34m)\u001b[0m\u001b[0;34m\u001b[0m\u001b[0;34m\u001b[0m\u001b[0m\n\u001b[0;32m---> 14\u001b[0;31m \u001b[0mresult3\u001b[0m \u001b[0;34m=\u001b[0m \u001b[0mnp\u001b[0m\u001b[0;34m.\u001b[0m\u001b[0mconcatenate\u001b[0m\u001b[0;34m(\u001b[0m\u001b[0;34m(\u001b[0m\u001b[0mx\u001b[0m\u001b[0;34m,\u001b[0m\u001b[0mv\u001b[0m\u001b[0;34m)\u001b[0m\u001b[0;34m)\u001b[0m\u001b[0;34m\u001b[0m\u001b[0;34m\u001b[0m\u001b[0m\n\u001b[0m\u001b[1;32m     15\u001b[0m \u001b[0mprint\u001b[0m\u001b[0;34m(\u001b[0m\u001b[0mresult3\u001b[0m\u001b[0;34m)\u001b[0m\u001b[0;34m\u001b[0m\u001b[0;34m\u001b[0m\u001b[0m\n\u001b[1;32m     16\u001b[0m \u001b[0;31m# dimensional error\u001b[0m\u001b[0;34m\u001b[0m\u001b[0;34m\u001b[0m\u001b[0m\n",
            "\u001b[0;31mValueError\u001b[0m: all the input arrays must have same number of dimensions, but the array at index 0 has 2 dimension(s) and the array at index 1 has 1 dimension(s)"
          ]
        }
      ]
    },
    {
      "cell_type": "code",
      "source": [
        "# Part 3\n",
        "# Ques 7\n",
        "import numpy as np\n",
        "v = np.array([9,10])\n",
        "w = np.array([11,12])\n",
        "x = np.array([[1,2],\n",
        "              [3,5]])\n",
        "y = np.array([[5,6]\n",
        "            , [7,8]])\n",
        "result3 = np.concatenate((x,v))\n",
        "print(result3)\n",
        "# dimensional error"
      ],
      "metadata": {
        "colab": {
          "base_uri": "https://localhost:8080/",
          "height": 228
        },
        "id": "9ls9Z5qVG768",
        "outputId": "815e1b77-5e5c-46ab-995d-f0691390f2b1"
      },
      "execution_count": null,
      "outputs": [
        {
          "output_type": "error",
          "ename": "ValueError",
          "evalue": "all the input arrays must have same number of dimensions, but the array at index 0 has 2 dimension(s) and the array at index 1 has 1 dimension(s)",
          "traceback": [
            "\u001b[0;31m---------------------------------------------------------------------------\u001b[0m",
            "\u001b[0;31mValueError\u001b[0m                                Traceback (most recent call last)",
            "\u001b[0;32m<ipython-input-20-0c13995af9a1>\u001b[0m in \u001b[0;36m<cell line: 10>\u001b[0;34m()\u001b[0m\n\u001b[1;32m      8\u001b[0m y = np.array([[5,6]\n\u001b[1;32m      9\u001b[0m             , [7,8]])\n\u001b[0;32m---> 10\u001b[0;31m \u001b[0mresult3\u001b[0m \u001b[0;34m=\u001b[0m \u001b[0mnp\u001b[0m\u001b[0;34m.\u001b[0m\u001b[0mconcatenate\u001b[0m\u001b[0;34m(\u001b[0m\u001b[0;34m(\u001b[0m\u001b[0mx\u001b[0m\u001b[0;34m,\u001b[0m\u001b[0mv\u001b[0m\u001b[0;34m)\u001b[0m\u001b[0;34m)\u001b[0m\u001b[0;34m\u001b[0m\u001b[0;34m\u001b[0m\u001b[0m\n\u001b[0m\u001b[1;32m     11\u001b[0m \u001b[0mprint\u001b[0m\u001b[0;34m(\u001b[0m\u001b[0mresult3\u001b[0m\u001b[0;34m)\u001b[0m\u001b[0;34m\u001b[0m\u001b[0;34m\u001b[0m\u001b[0m\n\u001b[1;32m     12\u001b[0m \u001b[0;31m# dimensional error\u001b[0m\u001b[0;34m\u001b[0m\u001b[0;34m\u001b[0m\u001b[0m\n",
            "\u001b[0;31mValueError\u001b[0m: all the input arrays must have same number of dimensions, but the array at index 0 has 2 dimension(s) and the array at index 1 has 1 dimension(s)"
          ]
        }
      ]
    },
    {
      "cell_type": "code",
      "source": [
        "# Part 4\n",
        "# QUes 1\n",
        "    #  part 1\n",
        "import numpy as np\n",
        "A = np.array([[3,4],[7,8]])\n",
        "B = np.array([[5,3],[2,1]])\n",
        "A_inv=np.linalg.inv(A)\n",
        "result = np.dot(A_inv,A)\n",
        "result = np.round(result, decimals=10)\n",
        "I = np.eye(2,2)\n",
        "# print(I)\n",
        "if np.allclose(result,I) :\n",
        "    print(\"Equal\")\n",
        "else:\n",
        "    print(\"Not equal\")"
      ],
      "metadata": {
        "colab": {
          "base_uri": "https://localhost:8080/"
        },
        "id": "bh3JwwNGHMB9",
        "outputId": "825847e6-7d24-4644-f4cb-4f87410e19d3"
      },
      "execution_count": null,
      "outputs": [
        {
          "output_type": "stream",
          "name": "stdout",
          "text": [
            "Equal\n"
          ]
        }
      ]
    },
    {
      "cell_type": "code",
      "source": [
        "# Part 4\n",
        "#    part  2\n",
        "import numpy as np\n",
        "A = np.array([[3,4],[7,8]])\n",
        "B = np.array([[5,3],[2,1]])\n",
        "res1 = np.matmul(A,B)\n",
        "res2 = np.matmul(B,A)\n",
        "if np.allclose(res1,res2):\n",
        "    print(\"Equal\")\n",
        "else:\n",
        "    print(\"Not equal\")"
      ],
      "metadata": {
        "colab": {
          "base_uri": "https://localhost:8080/"
        },
        "id": "ADKFZAQjHQ32",
        "outputId": "15a9b648-7051-4997-985a-afd423498565"
      },
      "execution_count": null,
      "outputs": [
        {
          "output_type": "stream",
          "name": "stdout",
          "text": [
            "Not equal\n"
          ]
        }
      ]
    },
    {
      "cell_type": "code",
      "source": [
        "  # Part 4\n",
        " # Part 3\n",
        "import numpy as np\n",
        "A = np.array([[3,4],[7,8]])\n",
        "B = np.array([[5,3],[2,1]])\n",
        "res1 = np.matmul(A,B)\n",
        "transpAB = np.transpose(res1)\n",
        "transpA = np.transpose(A)\n",
        "transpB = np.transpose(B)\n",
        "res2 = np.matmul(transpB,transpA)\n",
        "if np.allclose(transpAB,res2):\n",
        "        print(\"Equal\")\n",
        "else:\n",
        "        print(\"Not equal\")"
      ],
      "metadata": {
        "colab": {
          "base_uri": "https://localhost:8080/"
        },
        "id": "CT2wRH_5HTaB",
        "outputId": "aa1ef2f8-90fc-41d4-bee0-28c5647a8110"
      },
      "execution_count": null,
      "outputs": [
        {
          "output_type": "stream",
          "name": "stdout",
          "text": [
            "Equal\n"
          ]
        }
      ]
    },
    {
      "cell_type": "code",
      "source": [
        "# Part 4\n",
        "# Ques 2 and 3\n",
        "import numpy as np\n",
        "A= ([[2,-3,1],\n",
        "    [1,-1,2],\n",
        "    [3,1,-1]])\n",
        "\n",
        "B= ([-1],\n",
        "    [-3],\n",
        "    [9])\n",
        "\n",
        "A_inv = np.linalg.inv(A)\n",
        "res = np.dot(A_inv,B)\n",
        "print(\"The solution is: \")\n",
        "print(res)"
      ],
      "metadata": {
        "colab": {
          "base_uri": "https://localhost:8080/"
        },
        "id": "aOCskx4gHWYN",
        "outputId": "68f297a0-f6b3-44d5-8f68-a299d933463e"
      },
      "execution_count": null,
      "outputs": [
        {
          "output_type": "stream",
          "name": "stdout",
          "text": [
            "The solution is: \n",
            "[[ 2.]\n",
            " [ 1.]\n",
            " [-2.]]\n"
          ]
        }
      ]
    }
  ]
}