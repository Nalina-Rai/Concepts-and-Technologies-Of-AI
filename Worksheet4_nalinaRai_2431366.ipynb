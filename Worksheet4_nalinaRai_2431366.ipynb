{
  "nbformat": 4,
  "nbformat_minor": 0,
  "metadata": {
    "colab": {
      "provenance": []
    },
    "kernelspec": {
      "name": "python3",
      "display_name": "Python 3"
    },
    "language_info": {
      "name": "python"
    }
  },
  "cells": [
    {
      "cell_type": "code",
      "execution_count": 4,
      "metadata": {
        "id": "gis7R6RyFQN6"
      },
      "outputs": [],
      "source": [
        "import pandas as pd\n",
        "import numpy as np\n",
        "from sklearn.preprocessing import MinMaxScaler\n",
        "from sklearn.metrics import accuracy_score\n",
        "import time\n",
        "import matplotlib.pyplot as plt"
      ]
    },
    {
      "cell_type": "code",
      "source": [
        "# Loading the dataset\n",
        "dataset_path = '/content/drive/MyDrive/Worksheet-4/diabetes.csv'\n",
        "data = pd.read_csv(dataset_path)\n"
      ],
      "metadata": {
        "id": "B_f2R25bH8J8"
      },
      "execution_count": 5,
      "outputs": []
    },
    {
      "cell_type": "code",
      "source": [
        "#Problem - 1: Perform a classification task with knn from scratch.\n",
        "#1. Load the Dataset:\n",
        "# Read the dataset into a pandas DataFrame.\n",
        "# Display the first few rows and perform exploratory data analysis (EDA) to understand the dataset (e.g., check data types, missing values, summary statistics).\n",
        "\n",
        "def perform_eda(data):\n",
        "    print(\"First few rows:\")\n",
        "    print(data.head())\n",
        "    print(\"\\nDataset Info:\")\n",
        "    print(data.info())\n",
        "    print(\"\\nSummary Statistics:\")\n",
        "    print(data.describe())\n",
        "    print(\"\\nMissing Values:\")\n",
        "    print(data.isnull().sum())\n",
        "\n",
        "perform_eda(data)"
      ],
      "metadata": {
        "colab": {
          "base_uri": "https://localhost:8080/"
        },
        "id": "e46BEuSfH02A",
        "outputId": "8f767dda-95b1-4148-cdbf-b74c253e15a2"
      },
      "execution_count": 6,
      "outputs": [
        {
          "output_type": "stream",
          "name": "stdout",
          "text": [
            "First few rows:\n",
            "   Pregnancies  Glucose  BloodPressure  SkinThickness  Insulin   BMI  \\\n",
            "0            6      148             72             35        0  33.6   \n",
            "1            1       85             66             29        0  26.6   \n",
            "2            8      183             64              0        0  23.3   \n",
            "3            1       89             66             23       94  28.1   \n",
            "4            0      137             40             35      168  43.1   \n",
            "\n",
            "   DiabetesPedigreeFunction  Age  Outcome  \n",
            "0                     0.627   50        1  \n",
            "1                     0.351   31        0  \n",
            "2                     0.672   32        1  \n",
            "3                     0.167   21        0  \n",
            "4                     2.288   33        1  \n",
            "\n",
            "Dataset Info:\n",
            "<class 'pandas.core.frame.DataFrame'>\n",
            "RangeIndex: 768 entries, 0 to 767\n",
            "Data columns (total 9 columns):\n",
            " #   Column                    Non-Null Count  Dtype  \n",
            "---  ------                    --------------  -----  \n",
            " 0   Pregnancies               768 non-null    int64  \n",
            " 1   Glucose                   768 non-null    int64  \n",
            " 2   BloodPressure             768 non-null    int64  \n",
            " 3   SkinThickness             768 non-null    int64  \n",
            " 4   Insulin                   768 non-null    int64  \n",
            " 5   BMI                       768 non-null    float64\n",
            " 6   DiabetesPedigreeFunction  768 non-null    float64\n",
            " 7   Age                       768 non-null    int64  \n",
            " 8   Outcome                   768 non-null    int64  \n",
            "dtypes: float64(2), int64(7)\n",
            "memory usage: 54.1 KB\n",
            "None\n",
            "\n",
            "Summary Statistics:\n",
            "       Pregnancies     Glucose  BloodPressure  SkinThickness     Insulin  \\\n",
            "count   768.000000  768.000000     768.000000     768.000000  768.000000   \n",
            "mean      3.845052  120.894531      69.105469      20.536458   79.799479   \n",
            "std       3.369578   31.972618      19.355807      15.952218  115.244002   \n",
            "min       0.000000    0.000000       0.000000       0.000000    0.000000   \n",
            "25%       1.000000   99.000000      62.000000       0.000000    0.000000   \n",
            "50%       3.000000  117.000000      72.000000      23.000000   30.500000   \n",
            "75%       6.000000  140.250000      80.000000      32.000000  127.250000   \n",
            "max      17.000000  199.000000     122.000000      99.000000  846.000000   \n",
            "\n",
            "              BMI  DiabetesPedigreeFunction         Age     Outcome  \n",
            "count  768.000000                768.000000  768.000000  768.000000  \n",
            "mean    31.992578                  0.471876   33.240885    0.348958  \n",
            "std      7.884160                  0.331329   11.760232    0.476951  \n",
            "min      0.000000                  0.078000   21.000000    0.000000  \n",
            "25%     27.300000                  0.243750   24.000000    0.000000  \n",
            "50%     32.000000                  0.372500   29.000000    0.000000  \n",
            "75%     36.600000                  0.626250   41.000000    1.000000  \n",
            "max     67.100000                  2.420000   81.000000    1.000000  \n",
            "\n",
            "Missing Values:\n",
            "Pregnancies                 0\n",
            "Glucose                     0\n",
            "BloodPressure               0\n",
            "SkinThickness               0\n",
            "Insulin                     0\n",
            "BMI                         0\n",
            "DiabetesPedigreeFunction    0\n",
            "Age                         0\n",
            "Outcome                     0\n",
            "dtype: int64\n"
          ]
        }
      ]
    },
    {
      "cell_type": "code",
      "source": [
        "# 2. Handle Missing Data:\n",
        "#    - Handle any missing values appropriately, either by dropping or imputing them based on the data.\n",
        "data.fillna(data.median(), inplace=True)  # Impute missing values with median"
      ],
      "metadata": {
        "id": "X5VDNAibJOuJ"
      },
      "execution_count": 7,
      "outputs": []
    },
    {
      "cell_type": "code",
      "source": [
        "# 3. Feature Engineering:\n",
        "#    - Separate the feature matrix (X) and target variable (y).\n",
        "#    - Perform a train-test split from scratch using a 70%-30% ratio.\n",
        "\n",
        "X = data.iloc[:, :-1].values  # Features\n",
        "y = data.iloc[:, -1].values   # Target\n",
        "\n",
        "def train_test_split(X, y, test_size=0.3, random_state=42):\n",
        "    np.random.seed(random_state)\n",
        "    indices = np.random.permutation(len(X))\n",
        "    split_idx = int(len(X) * (1 - test_size))\n",
        "    train_idx, test_idx = indices[:split_idx], indices[split_idx:]\n",
        "    return X[train_idx], X[test_idx], y[train_idx], y[test_idx]\n",
        "\n",
        "X_train, X_test, y_train, y_test = train_test_split(X, y, test_size=0.3)"
      ],
      "metadata": {
        "id": "7TmOnPCoJWLs"
      },
      "execution_count": 9,
      "outputs": []
    },
    {
      "cell_type": "code",
      "source": [
        "# 4. Implement KNN:\n",
        "#    - Build the KNN algorithm from scratch (no libraries like scikit-learn for KNN).\n",
        "#    - Compute distances using Euclidean distance.\n",
        "#    - Write functions for:\n",
        "#        * Predicting the class for a single query.\n",
        "#        * Predicting classes for all test samples.\n",
        "#    - Evaluate the performance using accuracy.\n",
        "\n",
        "def euclidean_distance(x1, x2):\n",
        "    return np.sqrt(np.sum((x1 - x2) ** 2))\n",
        "\n",
        "def knn_predict_single(query, X_train, y_train, k):\n",
        "    distances = [euclidean_distance(query, x_train) for x_train in X_train]\n",
        "    neighbors_idx = np.argsort(distances)[:k]\n",
        "    neighbors_labels = y_train[neighbors_idx]\n",
        "    return np.bincount(neighbors_labels).argmax()\n",
        "\n",
        "def knn_predict(X_test, X_train, y_train, k):\n",
        "    return np.array([knn_predict_single(query, X_train, y_train, k) for query in X_test])\n"
      ],
      "metadata": {
        "id": "AYugj5ECJu2A"
      },
      "execution_count": 10,
      "outputs": []
    },
    {
      "cell_type": "code",
      "source": [
        "# Evaluating the model with k=3\n",
        "k = 3\n",
        "y_pred = knn_predict(X_test, X_train, y_train, k)\n",
        "accuracy = accuracy_score(y_test, y_pred)\n",
        "print(f\"Accuracy with k={k}: {accuracy}\")"
      ],
      "metadata": {
        "colab": {
          "base_uri": "https://localhost:8080/"
        },
        "id": "scqjUzhrJwhZ",
        "outputId": "f965096d-2331-4a9d-e71d-a06294f216e1"
      },
      "execution_count": 11,
      "outputs": [
        {
          "output_type": "stream",
          "name": "stdout",
          "text": [
            "Accuracy with k=3: 0.7012987012987013\n"
          ]
        }
      ]
    },
    {
      "cell_type": "code",
      "source": [
        "# Problem - 2: Experimentation\n",
        "# 1. Repeat the Classification Task:\n",
        "#    - Scale the Feature matrix X.\n",
        "#    - Use the scaled data for training and testing the KNN Classifier.\n",
        "#    - Record the results.\n",
        "\n",
        "scaler = MinMaxScaler()\n",
        "X_train_scaled = scaler.fit_transform(X_train)\n",
        "X_test_scaled = scaler.transform(X_test)\n",
        "\n",
        "y_pred_scaled = knn_predict(X_test_scaled, X_train_scaled, y_train, k)\n",
        "accuracy_scaled = accuracy_score(y_test, y_pred_scaled)\n",
        "\n",
        "print(f\"Accuracy with k={k} (scaled features): {accuracy_scaled}\")"
      ],
      "metadata": {
        "colab": {
          "base_uri": "https://localhost:8080/"
        },
        "id": "Q33rowjGJ8vo",
        "outputId": "f1929be9-191b-4009-bbac-b746f01e6f1c"
      },
      "execution_count": 12,
      "outputs": [
        {
          "output_type": "stream",
          "name": "stdout",
          "text": [
            "Accuracy with k=3 (scaled features): 0.7186147186147186\n"
          ]
        }
      ]
    },
    {
      "cell_type": "code",
      "source": [
        "# 2. Comparative Analysis:\n",
        "#    - Compare the accuracy and performance of the KNN model on the original dataset from Problem 1\n",
        "#      versus the scaled dataset.\n",
        "#    - Discuss:\n",
        "#        * How scaling impacted the KNN performance.\n",
        "#        * The reason for any observed changes in accuracy.\n",
        "\n",
        "# Problem - 3: Experimentation with k\n",
        "# 1. Vary the number of neighbors - k:\n",
        "#    - Run the KNN model on both the original and scaled datasets for a range of:\n",
        "#        k = 1, 2, 3, ..., 15\n",
        "#    - For each k, record:\n",
        "#        * Accuracy.\n",
        "#        * Time taken to make predictions.\n",
        "\n",
        "k_values = range(1, 16)\n",
        "original_accuracies = []\n",
        "scaled_accuracies = []\n",
        "original_times = []\n",
        "scaled_times = []\n",
        "\n",
        "for k in k_values:\n",
        "    start = time.time()\n",
        "    y_pred = knn_predict(X_test, X_train, y_train, k)\n",
        "    original_times.append(time.time() - start)\n",
        "    original_accuracies.append(accuracy_score(y_test, y_pred))\n",
        "\n",
        "    start = time.time()\n",
        "    y_pred_scaled = knn_predict(X_test_scaled, X_train_scaled, y_train, k)\n",
        "    scaled_times.append(time.time() - start)\n",
        "    scaled_accuracies.append(accuracy_score(y_test, y_pred_scaled))"
      ],
      "metadata": {
        "id": "YsZKNVSMKA42"
      },
      "execution_count": 13,
      "outputs": []
    },
    {
      "cell_type": "code",
      "source": [
        "# 2. Visualize the Results:\n",
        "#    - Plot the following graphs:\n",
        "#        * k vs. Accuracy for original and scaled datasets.\n",
        "#        * k vs. Time Taken for original and scaled datasets.\n",
        "\n",
        "plt.figure(figsize=(12, 6))"
      ],
      "metadata": {
        "colab": {
          "base_uri": "https://localhost:8080/",
          "height": 52
        },
        "id": "Lyrob1_6KD1j",
        "outputId": "91b48585-c72f-416a-ab5f-b968b60ea60e"
      },
      "execution_count": 14,
      "outputs": [
        {
          "output_type": "execute_result",
          "data": {
            "text/plain": [
              "<Figure size 1200x600 with 0 Axes>"
            ]
          },
          "metadata": {},
          "execution_count": 14
        },
        {
          "output_type": "display_data",
          "data": {
            "text/plain": [
              "<Figure size 1200x600 with 0 Axes>"
            ]
          },
          "metadata": {}
        }
      ]
    },
    {
      "cell_type": "code",
      "source": [
        "# 2. Visualize the Results:\n",
        "#    - Plot the following graphs:\n",
        "#        * k vs. Accuracy for original and scaled datasets.\n",
        "#        * k vs. Time Taken for original and scaled datasets.\n",
        "\n",
        "plt.figure(figsize=(12, 6))"
      ],
      "metadata": {
        "colab": {
          "base_uri": "https://localhost:8080/",
          "height": 52
        },
        "id": "00G4yo6SKGDa",
        "outputId": "b7e78363-67dd-4f3e-e328-8706efc79fc7"
      },
      "execution_count": 15,
      "outputs": [
        {
          "output_type": "execute_result",
          "data": {
            "text/plain": [
              "<Figure size 1200x600 with 0 Axes>"
            ]
          },
          "metadata": {},
          "execution_count": 15
        },
        {
          "output_type": "display_data",
          "data": {
            "text/plain": [
              "<Figure size 1200x600 with 0 Axes>"
            ]
          },
          "metadata": {}
        }
      ]
    },
    {
      "cell_type": "code",
      "source": [
        "# Accuracy vs k\n",
        "plt.subplot(1, 2, 1)\n",
        "plt.plot(k_values, original_accuracies, label='Original Features', marker='o')\n",
        "plt.plot(k_values, scaled_accuracies, label='Scaled Features', marker='o')\n",
        "plt.title('k vs Accuracy')\n",
        "plt.xlabel('k')\n",
        "plt.ylabel('Accuracy')\n",
        "plt.legend()"
      ],
      "metadata": {
        "colab": {
          "base_uri": "https://localhost:8080/",
          "height": 489
        },
        "id": "GsBQ42U6KI0D",
        "outputId": "97760352-ae15-4c20-8333-33c57167445f"
      },
      "execution_count": 16,
      "outputs": [
        {
          "output_type": "execute_result",
          "data": {
            "text/plain": [
              "<matplotlib.legend.Legend at 0x7e66c6203280>"
            ]
          },
          "metadata": {},
          "execution_count": 16
        },
        {
          "output_type": "display_data",
          "data": {
            "text/plain": [
              "<Figure size 640x480 with 1 Axes>"
            ],
            "image/png": "[encoded data removed]"
          },
          "metadata": {}
        }
      ]
    },
    {
      "cell_type": "code",
      "source": [
        "# Time vs k\n",
        "plt.subplot(1, 2, 2)\n",
        "plt.plot(k_values, original_times, label='Original Features', marker='o')\n",
        "plt.plot(k_values, scaled_times, label='Scaled Features', marker='o')\n",
        "plt.title('k vs Time Taken')\n",
        "plt.xlabel('k')\n",
        "plt.ylabel('Time Taken (s)')\n",
        "plt.legend()\n",
        "\n",
        "plt.tight_layout()\n",
        "plt.show()"
      ],
      "metadata": {
        "colab": {
          "base_uri": "https://localhost:8080/",
          "height": 487
        },
        "id": "30leBz8sKSYG",
        "outputId": "d2036007-8207-47a1-abf4-65b358ddec50"
      },
      "execution_count": 17,
      "outputs": [
        {
          "output_type": "display_data",
          "data": {
            "text/plain": [
              "<Figure size 640x480 with 1 Axes>"
            ],
            "image/png": "[encoded data removed]"
          },
          "metadata": {}
        }
      ]
    },
    {
      "cell_type": "code",
      "source": [
        "# 3. Analyze and Discuss:\n",
        "#    - Discuss how the choice of k affects the accuracy and computational cost.\n",
        "#    - Identify the optimal k based on your analysis.\n",
        "\n",
        "# Discussion\n",
        "print(\"\\nDiscussion:\")\n",
        "print(\"1. Scaling the features significantly impacted the performance of KNN. After scaling, the accuracy improved for most values of k, and computational cost decreased.\")\n",
        "print(\"2. The choice of k directly impacts both accuracy and time taken. Lower k tends to overfit, while higher k may underfit.\")\n",
        "print(\"3. Optimal k based on the analysis: k=\")"
      ],
      "metadata": {
        "colab": {
          "base_uri": "https://localhost:8080/"
        },
        "id": "4hzd2idMKZv_",
        "outputId": "1fb36448-a6ca-4cb5-d4ca-03b3f2021fc0"
      },
      "execution_count": 18,
      "outputs": [
        {
          "output_type": "stream",
          "name": "stdout",
          "text": [
            "\n",
            "Discussion:\n",
            "1. Scaling the features significantly impacted the performance of KNN. After scaling, the accuracy improved for most values of k, and computational cost decreased.\n",
            "2. The choice of k directly impacts both accuracy and time taken. Lower k tends to overfit, while higher k may underfit.\n",
            "3. Optimal k based on the analysis: k=\n"
          ]
        }
      ]
    },
    {
      "cell_type": "markdown",
      "source": [
        "Challenges of k-NN:\n",
        "\n",
        "Slow for large datasets due to distance calculations with all points.\n",
        "Curse of Dimensionality: High dimensions reduce distance effectiveness.\n",
        "Scalability: Time complexity grows with dataset size.\n",
        "Sensitive to noise and outliers.\n",
        "\n",
        "Efficiency Improvements:\n",
        "\n",
        "Approximate Nearest Neighbors: Use methods like LSH or KD-Trees.\n",
        "Dimensionality Reduction: Apply PCA for faster computation.\n",
        "Efficient Data Structures: Use KD-Trees or Ball-Trees.\n",
        "Parallelization/GPU: Speed up calculations.\n",
        "Weighted Voting: Give closer neighbors more influence."
      ],
      "metadata": {
        "id": "ccybLEyqMDVl"
      }
    }
  ]
}